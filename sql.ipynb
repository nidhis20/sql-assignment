{
 "cells": [
  {
   "cell_type": "markdown",
   "id": "63c5df79-001d-471b-b5a6-6041b003fe88",
   "metadata": {},
   "source": [
    "ans1 = A database is an organized collection of structured information or data, typically stored electronically in a computer system. Databases are managed by Database Management Systems (DBMS), which allow users to create, read, update, and delete data efficiently. Databases are essential for storing and managing large amounts of data in a structured way, enabling easy access and manipulation.\n",
    "\n",
    "Differentiating Between SQL and NoSQL Databases\n",
    "SQL Databases\n",
    "SQL (Structured Query Language) databases are relational databases that use SQL for defining and manipulating data. These databases are based on a structured schema and are highly suited for complex queries and transactions.\n",
    "\n",
    "Schema: SQL databases have a predefined schema, meaning the structure of the data is fixed and each table's columns must be defined before any data can be inserted.\n",
    "Examples: MySQL, PostgreSQL, Oracle Database, Microsoft SQL Server.\n",
    "ACID Properties: SQL databases provide strong ACID (Atomicity, Consistency, Isolation, Durability) compliance, making them suitable for applications requiring high reliability and complex transaction support.\n",
    "Data Model: They use a table-based structure, where data is stored in rows and columns.\n",
    "Scalability: Typically vertically scalable (i.e., scaling by increasing the capabilities of a single server), although some modern SQL databases offer horizontal scalability.\n",
    "NoSQL Databases\n",
    "NoSQL (Not Only SQL) databases are non-relational databases that provide a flexible schema for the storage and retrieval of data. They are designed for handling unstructured data and are highly scalable.\n",
    "\n",
    "\n",
    "\n",
    "\n",
    "\n",
    "\n"
   ]
  },
  {
   "cell_type": "markdown",
   "id": "b44b096d-1db6-4d72-8053-5df18fb4547d",
   "metadata": {},
   "source": [
    "ans2 = DDL (Data Definition Language) is a subset of SQL (Structured Query Language) used to define and manage all structures in a database. DDL statements are used to create, modify, and delete database objects such as tables, indexes, and views. These operations typically result in changes to the database schema and its metadata.\n",
    "\n",
    "Key DDL Commands and Their Uses\n",
    "CREATE: Used to create new database objects such as tables, indexes, views, and schemas.\n",
    "DROP: Used to delete existing database objects.\n",
    "ALTER: Used to modify the structure of existing database objects.\n",
    "TRUNCATE: Used to remove all records from a table, but the table structure remains intact.\n",
    "\n",
    "2. DROP\n",
    "The DROP statement is used to delete existing tables, views, indexes, etc.\n",
    "\n",
    "3. ALTER\n",
    "The ALTER statement is used to modify the structure of an existing database object.\n",
    "\n",
    "4. TRUNCATE\n",
    "The TRUNCATE statement is used to remove all records from a table, but unlike DROP, it retains the table structure for future use.\n",
    "\n"
   ]
  },
  {
   "cell_type": "markdown",
   "id": "f249ed47-f3c5-4a91-a088-2ba98e9e4d7b",
   "metadata": {},
   "source": [
    "ans3 = DML (Data Manipulation Language) is a subset of SQL (Structured Query Language) used for managing data within database objects like tables. DML commands are used to insert, update, and delete data, enabling users to manipulate the actual data stored in a database.\n",
    "\n",
    "Key DML Commands and Their Uses\n",
    "1 INSERT: Adds new rows to a table.\n",
    "2 UPDATE: Modifies existing data within a table.\n",
    "3 DELETE: Removes rows from a table.\n"
   ]
  },
  {
   "cell_type": "markdown",
   "id": "f4f16c34-a38d-41d6-bb21-817e3625ba65",
   "metadata": {},
   "source": [
    "ans4 = DQL (Data Query Language) is a subset of SQL (Structured Query Language) used primarily for querying and retrieving data from a database. The main command in DQL is SELECT, which allows users to specify exactly which data they want to extract from the database.\n",
    "\n",
    "Components of the SELECT Statement\n",
    "SELECT Clause: Specifies the columns to retrieve.\n",
    "FROM Clause: Specifies the table from which to retrieve the data.\n",
    "WHERE Clause: (Optional) Filters the rows based on a condition.\n",
    "ORDER BY Clause: (Optional) Sorts the result set based on one or more columns.\n",
    "GROUP BY Clause: (Optional) Groups rows that have the same values in specified columns into summary rows.\n",
    "HAVING Clause: (Optional) Filters groups based on a condition\n",
    "\n",
    "ans5 = A Primary Key is a field (or combination of fields) in a database table that uniquely identifies each row in that table. The primary key must contain unique values and cannot contain NULL values. Every table can have only one primary key, which can consist of a single column or multiple columns.\n",
    "\n",
    "Characteristics of Primary Key:\n",
    "Uniqueness: Each value in the primary key column(s) must be unique.\n",
    "Non-null: Primary key columns cannot contain NULL values.\n",
    "Single per Table: Each table can have only one primary key.\n",
    "Immutable: Primary key values should not change once they are set.\n",
    "\n",
    "\n",
    "Foreign Key\n",
    "A Foreign Key is a field (or combination of fields) in one table that uniquely identifies a row of another table or the same table. The foreign key establishes a link between the data in the two tables. It ensures referential integrity of the data, meaning the value in the foreign key column(s) must match a value in the primary key column(s) of the referenced table or be NULL.\n",
    "\n",
    "Characteristics of Foreign Key:\n",
    "Referential Integrity: Ensures that the value in the foreign key column matches an existing value in the referenced primary key column or is NULL.\n",
    "Multiple Foreign Keys: A table can have multiple foreign keys, each linking to a primary key in the same or different tables.\n",
    "Optionality: Foreign key columns can contain NULL values if the relationship is optional.\n",
    "\n",
    "\n"
   ]
  }
 ],
 "metadata": {
  "kernelspec": {
   "display_name": "Python 3 (ipykernel)",
   "language": "python",
   "name": "python3"
  },
  "language_info": {
   "codemirror_mode": {
    "name": "ipython",
    "version": 3
   },
   "file_extension": ".py",
   "mimetype": "text/x-python",
   "name": "python",
   "nbconvert_exporter": "python",
   "pygments_lexer": "ipython3",
   "version": "3.10.8"
  }
 },
 "nbformat": 4,
 "nbformat_minor": 5
}
